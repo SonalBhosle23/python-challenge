{
 "cells": [
  {
   "cell_type": "code",
   "execution_count": 43,
   "id": "43d6e188-a18b-4c9e-baf7-26d1ef4eaf96",
   "metadata": {},
   "outputs": [],
   "source": [
    "# \n",
    "import os\n",
    "\n",
    "import csv\n",
    "\n",
    "csv_path = os.path.join('Resources', 'budget_data.csv')"
   ]
  },
  {
   "cell_type": "code",
   "execution_count": 224,
   "id": "12486a03-ad1d-4f01-b9b4-d32a17255ad0",
   "metadata": {},
   "outputs": [
    {
     "name": "stdout",
     "output_type": "stream",
     "text": [
      "Financial Analysis\n",
      "-----------------------------\n",
      "Total Months: 86\n",
      "Total: $ 22564198\n",
      "Average Change: $ -8311.11\n",
      "Greatest Increase in Profits:Aug-16 ($1862002)\n",
      "Greatest Decrease in Profits:Feb-14 ($-1825558)\n",
      "\n",
      "Analysis has been exported to financial_analysis.txt\n"
     ]
    }
   ],
   "source": [
    "# Open and read csv\n",
    "with open(csv_path) as csv_file :\n",
    "    csv_reader = csv.reader(csv_file, delimiter = ',')\n",
    "    csv_header = next(csv_reader)\n",
    "   \n",
    "# Assign variables  \n",
    "\n",
    "    csv_list = list(csv_reader)\n",
    "  \n",
    "    profit_loss = []\n",
    "    change = [] \n",
    "    months = []\n",
    "    \n",
    "# Calculate the total number of months  \n",
    "# Calculate the total sum of Profit/Loss\n",
    "    for row in csv_list:\n",
    "        months.append(row[0])\n",
    "        profit_loss.append(int(row[1]))\n",
    "      \n",
    "    total_months = len(months)\n",
    "    total_sum = sum(profit_loss)\n",
    "    \n",
    "# Calculate the changes in Profit/Loss over the entire period\n",
    "    for i in range(1, total_months):\n",
    "        change = profit_loss[i] - profit_loss[i - 1]\n",
    "        changes.append(change)\n",
    "\n",
    "# Calculate the average change\n",
    "    average_change = sum(changes) / len(changes)\n",
    "\n",
    "\n",
    "# Find the greatest increase in profits (date and amount) over the entire period\n",
    "greatest_increase = max(changes)\n",
    "greatest_increase_date = months[changes.index(greatest_increase) + 1]\n",
    "\n",
    "# Find the greatest decrease in profits (date and amount) over the entire period\n",
    "greatest_decrease = min(changes)\n",
    "greatest_decrease_date = months[changes.index(greatest_decrease) + 1]\n",
    "\n",
    "# Print the analysis results\n",
    "print(\"Financial Analysis\")\n",
    "print(\"-----------------------------\")\n",
    "print(f\"Total Months: {num_rows}\")\n",
    "print(f\"Total: $ {total_sum}\")\n",
    "print(f\"Average Change: $ {average_change:.2f}\")\n",
    "print(f\"Greatest Increase in Profits:{greatest_increase_date} (${greatest_increase})\")\n",
    "print(f\"Greatest Decrease in Profits:{greatest_decrease_date} (${greatest_decrease})\")\n",
    "\n",
    "# Export the results to a text file\n",
    "output_file_path = \"financial_analysis.txt\"\n",
    "with open(output_file_path, \"w\") as output_file:\n",
    "    output_file.write(\"Financial Analysis\\n\")\n",
    "    output_file.write(\"------------------\\n\")\n",
    "    output_file.write(f\"Total Months: {num_rows}\\n\")\n",
    "    \n",
    "    output_file.write(f\"Total: $ {total_sum}\\n\")\n",
    "    \n",
    "    output_file.write(f\"Average Change: $ {average_change:.2f}\\n\")\n",
    "    \n",
    "    output_file.write(f\"Greatest Increase in Profits:{greatest_increase_date} ${greatest_increase}\\n\")    \n",
    "    output_file.write(f\"Greatest Decrease in Profits:{greatest_decrease_date} ${greatest_decrease}\\n\")\n",
    "    \n",
    "print(f\"\\nAnalysis has been exported to {output_file_path}\")\n",
    "\n",
    "    \n",
    "\n",
    "    \n",
    "    "
   ]
  },
  {
   "cell_type": "code",
   "execution_count": null,
   "id": "d8547259-cc85-4124-962e-055aef29f375",
   "metadata": {},
   "outputs": [],
   "source": []
  }
 ],
 "metadata": {
  "kernelspec": {
   "display_name": "Python 3 (ipykernel)",
   "language": "python",
   "name": "python3"
  },
  "language_info": {
   "codemirror_mode": {
    "name": "ipython",
    "version": 3
   },
   "file_extension": ".py",
   "mimetype": "text/x-python",
   "name": "python",
   "nbconvert_exporter": "python",
   "pygments_lexer": "ipython3",
   "version": "3.11.5"
  }
 },
 "nbformat": 4,
 "nbformat_minor": 5
}

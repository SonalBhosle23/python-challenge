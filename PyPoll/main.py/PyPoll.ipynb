{
 "cells": [
  {
   "cell_type": "code",
   "execution_count": 7,
   "id": "6c7bc973-3f80-4a0f-9890-d4ad74fe669c",
   "metadata": {},
   "outputs": [],
   "source": [
    "# \n",
    "import os\n",
    "\n",
    "import csv\n",
    "\n",
    "csv_path = os.path.join('..','Resources', 'election_data.csv')"
   ]
  },
  {
   "cell_type": "code",
   "execution_count": 59,
   "id": "c6e3df79-7cb2-4877-a260-37a4217ccc16",
   "metadata": {},
   "outputs": [
    {
     "name": "stdout",
     "output_type": "stream",
     "text": [
      "Election Results\n",
      "-----------------------------\n",
      "Total Votes: 369711\n",
      "-----------------------------\n",
      "Charles Casper Stockham: 23.049% (85213) \n",
      "Diana DeGette: 73.812% (272892) \n",
      "Raymon Anthony Doane: 3.139% (11606) \n",
      "-----------------------------\n",
      "Winner: Diana DeGette\n",
      "\n",
      "Analysis has been exported to Election Results.txt\n"
     ]
    }
   ],
   "source": [
    "# Open and read csv\n",
    "with open(csv_path) as csv_file :\n",
    "    csv_reader = csv.reader(csv_file, delimiter = ',')\n",
    "    csv_header = next(csv_reader)\n",
    "    #print(csv_header)\n",
    "\n",
    "# Assign variables  \n",
    "\n",
    "    csv_list = list(csv_reader)\n",
    "  \n",
    "    ballot_id = []\n",
    "    county = [] \n",
    "    candidate_counts = {}\n",
    "\n",
    "# Calculate the total number of votes cast\n",
    "    for row in csv_list:\n",
    "        ballot_id.append(row[0])\n",
    "        candidate_name = (row[2])\n",
    "        if candidate_name in candidate_counts:\n",
    "            candidate_counts[candidate_name] += 1\n",
    "        else:\n",
    "            candidate_counts[candidate_name] = 1\n",
    "    total_votes = len(ballot_id)\n",
    "    unique_candidates_count = len(candidate)\n",
    "    \n",
    "# Print Election result analysis\n",
    "print(\"Election Results\")\n",
    "print(\"-----------------------------\")\n",
    "print(f\"Total Votes: {total_votes}\")\n",
    "print(\"-----------------------------\")\n",
    "#print('Candidate Counts:')\n",
    "for candidate, count in candidate_counts.items():\n",
    "    #print(f'{candidate}: {count} votes')\n",
    "    percentage = (count / total_votes) * 100\n",
    "    print(f'{candidate}: {percentage:.3f}% ({count}) ')\n",
    "    if percentage > max_percentage:\n",
    "            max_percentage = percentage\n",
    "            max_percentage_candidate = candidate\n",
    "\n",
    "print(\"-----------------------------\")\n",
    "print(f\"Winner: {max_percentage_candidate}\")\n",
    "\n",
    "# Export the results to a text file\n",
    "output_file_path = \"Election Results.txt\"\n",
    "with open(output_file_path, \"w\") as output_file:\n",
    "    output_file.write(\"Election Results\\n\")\n",
    "    output_file.write(\"------------------\\n\")\n",
    "    output_file.write(f\"Total Votes: {total_votes}\\n\")\n",
    "    output_file.write(\"------------------\\n\")\n",
    "\n",
    "    output_file.write(f\"{candidate}: {percentage:.3f}% ({count})\\n\")\n",
    "    output_file.write(\"------------------\\n\")\n",
    "    output_file.write(f\"Winner: {max_percentage_candidate}\\n\")\n",
    "    \n",
    "print(f\"\\nAnalysis has been exported to {output_file_path}\")"
   ]
  },
  {
   "cell_type": "code",
   "execution_count": null,
   "id": "24c8357d-238b-4a57-ad69-09cd72c3a285",
   "metadata": {},
   "outputs": [],
   "source": []
  },
  {
   "cell_type": "code",
   "execution_count": null,
   "id": "c19ea2a1-ff33-4411-a413-5b5732c156f4",
   "metadata": {},
   "outputs": [],
   "source": []
  }
 ],
 "metadata": {
  "kernelspec": {
   "display_name": "Python 3 (ipykernel)",
   "language": "python",
   "name": "python3"
  },
  "language_info": {
   "codemirror_mode": {
    "name": "ipython",
    "version": 3
   },
   "file_extension": ".py",
   "mimetype": "text/x-python",
   "name": "python",
   "nbconvert_exporter": "python",
   "pygments_lexer": "ipython3",
   "version": "3.11.5"
  }
 },
 "nbformat": 4,
 "nbformat_minor": 5
}
